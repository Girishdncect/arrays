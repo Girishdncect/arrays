{
 "cells": [
  {
   "cell_type": "code",
   "execution_count": 1,
   "id": "9834293d-8124-4ce0-a773-7920da9caa18",
   "metadata": {},
   "outputs": [
    {
     "name": "stdout",
     "output_type": "stream",
     "text": [
      "True\n"
     ]
    }
   ],
   "source": [
    "\"\"\"1. Given an array, check if it contains any duplicates or not.\n",
    "arr = [1, 2, 4, 2, 5, 9]\n",
    "Output = True\"\"\"\n",
    "\n",
    "\n",
    "def contains_duplicates(arr):\n",
    " \n",
    "    unique_elements = set(arr)\n",
    "    \n",
    "    return len(unique_elements) != len(arr)\n",
    "arr = [1, 2, 4, 2, 5, 9]\n",
    "output = contains_duplicates(arr)\n",
    "print(output)\n"
   ]
  },
  {
   "cell_type": "code",
   "execution_count": 3,
   "id": "3cfa7d71-f053-4266-ab9d-6b19bd13b731",
   "metadata": {},
   "outputs": [
    {
     "name": "stdout",
     "output_type": "stream",
     "text": [
      "[5, 6, 7, 1, 2, 3, 4]\n"
     ]
    }
   ],
   "source": [
    "\"\"\"2. Given an array and an integer k, rotate the array to the right by k steps.\n",
    "arr = [1, 2, 3, 4, 5, 6, 7] k = 3\n",
    "Output = [5, 6, 7, 1, 2, 3, 4]\"\"\"\n",
    "\n",
    "def rotate_array(arr, k):\n",
    "    n = len(arr)\n",
    "    k = k % n\n",
    "    arr[:] = arr[-k:] + arr[:-k]\n",
    "\n",
    "arr = [1, 2, 3, 4, 5, 6, 7]\n",
    "k = 3\n",
    "rotate_array(arr, k)\n",
    "print(arr)  "
   ]
  },
  {
   "cell_type": "code",
   "execution_count": 8,
   "id": "163e47ab-9844-4110-b6a9-8a141cab6c13",
   "metadata": {},
   "outputs": [
    {
     "name": "stdout",
     "output_type": "stream",
     "text": [
      "[12, 9, 7, 5, 4, 2]\n"
     ]
    }
   ],
   "source": [
    "\"\"\"3. Reverse the given array in-place, means without using any extra data structure.\n",
    "arr = [2, 4, 5, 7, 9, 12]\n",
    "Output = [12, 9, 7, 5, 4, 2]\"\"\"\n",
    "\n",
    "\n",
    "\n",
    "def reverse_array(arr):\n",
    "    n = len(arr)\n",
    "    for i in range(n // 2):\n",
    "        arr[i], arr[n - i - 1] = arr[n - i - 1], arr[i]\n",
    "arr = [2, 4, 5, 7, 9, 12]\n",
    "reverse_array(arr)\n",
    "print(arr) "
   ]
  },
  {
   "cell_type": "code",
   "execution_count": 10,
   "id": "d07577da-6353-46e3-9d66-a28e7046d601",
   "metadata": {},
   "outputs": [
    {
     "name": "stdout",
     "output_type": "stream",
     "text": [
      "20\n"
     ]
    }
   ],
   "source": [
    "\"\"\"4. Given an array of integers, find the maximum element in an array\n",
    "arr = [10, 5, 20, 8, 15]\n",
    "Output = 20\"\"\"\n",
    "\n",
    "\n",
    "\n",
    "def find_max_element(arr):\n",
    "   \n",
    "    max_element = arr[0]\n",
    "    for num in arr[1:]:\n",
    "        if num > max_element:\n",
    "            max_element = num\n",
    "    return max_element\n",
    "arr = [10, 5, 20, 8, 15]\n",
    "output = find_max_element(arr)\n",
    "print(output)  # Output: 20\n"
   ]
  },
  {
   "cell_type": "code",
   "execution_count": 13,
   "id": "d3cd9eb9-f04c-408f-bd62-4dc9d3792080",
   "metadata": {},
   "outputs": [
    {
     "name": "stdout",
     "output_type": "stream",
     "text": [
      "[1, 2, 3, 4, 5]\n"
     ]
    }
   ],
   "source": [
    "\"\"\"5. Given a sorted array, remove the duplicate element without using any extra data structure.\n",
    "arr = [1, 1, 2, 2, 2, 3, 3, 4, 4, 4, 5, 5]\n",
    "Output = [1, 2, 3, 4, 5]\"\"\"\n",
    "\n",
    "\n",
    "def remove_duplicates(arr):\n",
    "    index = 1\n",
    "    for i in range(1, len(arr)):\n",
    "        if arr[i] != arr[i - 1]:\n",
    "            arr[index] = arr[i]\n",
    "            index += 1\n",
    "    arr[:] = arr[:index]\n",
    "arr = [1, 1, 2, 2, 2, 3, 3, 4, 4, 4, 5, 5]\n",
    "remove_duplicates(arr)\n",
    "print(arr) \n",
    "\n"
   ]
  }
 ],
 "metadata": {
  "kernelspec": {
   "display_name": "Python 3 (ipykernel)",
   "language": "python",
   "name": "python3"
  },
  "language_info": {
   "codemirror_mode": {
    "name": "ipython",
    "version": 3
   },
   "file_extension": ".py",
   "mimetype": "text/x-python",
   "name": "python",
   "nbconvert_exporter": "python",
   "pygments_lexer": "ipython3",
   "version": "3.10.8"
  }
 },
 "nbformat": 4,
 "nbformat_minor": 5
}
